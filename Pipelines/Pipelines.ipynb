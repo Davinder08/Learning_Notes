{
 "cells": [
  {
   "cell_type": "code",
   "execution_count": 11,
   "metadata": {},
   "outputs": [],
   "source": [
    "import numpy as np\n",
    "import pandas as pd\n",
    "from sklearn.datasets import load_iris\n",
    "from sklearn.model_selection import train_test_split\n",
    "from sklearn.preprocessing import StandardScaler\n",
    "from sklearn.decomposition import PCA\n",
    "from sklearn.linear_model import LogisticRegression\n",
    "from sklearn.tree import DecisionTreeClassifier\n",
    "from sklearn.ensemble import RandomForestClassifier\n",
    "from sklearn.pipeline import Pipeline"
   ]
  },
  {
   "cell_type": "code",
   "execution_count": 5,
   "metadata": {},
   "outputs": [
    {
     "data": {
      "text/plain": [
       "'\\n'"
      ]
     },
     "execution_count": 5,
     "metadata": {},
     "output_type": "execute_result"
    }
   ],
   "source": [
    "\"\"\"\n",
    "This is to create test pipelines implementing preprocessing,PCA to 3 classifiers and get best accuracy\n",
    "\"\"\""
   ]
  },
  {
   "cell_type": "code",
   "execution_count": 8,
   "metadata": {},
   "outputs": [],
   "source": [
    "df = load_iris()\n",
    "X = df.data\n",
    "y = df.target\n",
    "X_train,X_test,y_train,y_test = train_test_split(X,y,train_size=0.7,random_state=42)"
   ]
  },
  {
   "cell_type": "code",
   "execution_count": 12,
   "metadata": {},
   "outputs": [],
   "source": [
    "# Creating Pipelines\n",
    "p_lr = Pipeline([\n",
    "    ('scalar1',StandardScaler()),\n",
    "    ('pca1',PCA(n_components=2)),\n",
    "    ('Logistic Regression',LogisticRegression())\n",
    "])\n",
    "p_dt = Pipeline([\n",
    "    ('scalar2',StandardScaler()),\n",
    "    ('pca2',PCA(n_components=2)),\n",
    "    ('Decision Tree',DecisionTreeClassifier())\n",
    "])\n",
    "p_rf = Pipeline([\n",
    "    ('scalar3',StandardScaler()),\n",
    "    ('pca3',PCA(n_components=2)),\n",
    "    ('Random Forest',RandomForestClassifier())\n",
    "])"
   ]
  },
  {
   "cell_type": "code",
   "execution_count": 13,
   "metadata": {},
   "outputs": [],
   "source": [
    "# Fitting Data in pipelines\n",
    "pipelines = [p_lr,p_dt,p_rf]\n",
    "for pipe in pipelines:\n",
    "    pipe.fit(X_train,y_train)"
   ]
  },
  {
   "cell_type": "code",
   "execution_count": 14,
   "metadata": {},
   "outputs": [
    {
     "name": "stdout",
     "output_type": "stream",
     "text": [
      "Logistic Regression accurasy is : 0.9111111111111111\n",
      "Decision Tree accurasy is : 0.9555555555555556\n",
      "Random Forest accurasy is : 0.9555555555555556\n"
     ]
    }
   ],
   "source": [
    "# Getting Accuracies\n",
    "pipe_dict = {0:'Logistic Regression',\n",
    "            1:'Decision Tree',\n",
    "            2:'Random Forest'}\n",
    "for i,model in enumerate(pipelines):\n",
    "    print(f\"{pipe_dict[i]} accurasy is : {model.score(X_test,y_test)}\")"
   ]
  },
  {
   "cell_type": "code",
   "execution_count": null,
   "metadata": {},
   "outputs": [],
   "source": []
  }
 ],
 "metadata": {
  "kernelspec": {
   "display_name": "Python 3",
   "language": "python",
   "name": "python3"
  },
  "language_info": {
   "codemirror_mode": {
    "name": "ipython",
    "version": 3
   },
   "file_extension": ".py",
   "mimetype": "text/x-python",
   "name": "python",
   "nbconvert_exporter": "python",
   "pygments_lexer": "ipython3",
   "version": "3.7.6"
  }
 },
 "nbformat": 4,
 "nbformat_minor": 4
}
