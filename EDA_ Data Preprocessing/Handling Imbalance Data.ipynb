{
 "cells": [
  {
   "cell_type": "code",
   "execution_count": 30,
   "metadata": {},
   "outputs": [],
   "source": [
    "import numpy as np\n",
    "import pandas as pd \n",
    "from imblearn.under_sampling import NearMiss\n",
    "from imblearn.combine import SMOTETomek\n",
    "from imblearn.over_sampling import RandomOverSampler"
   ]
  },
  {
   "cell_type": "code",
   "execution_count": 4,
   "metadata": {},
   "outputs": [],
   "source": [
    "\"\"\"\n",
    "The DS is imbalanced : See ratio of 1,0 is 9:1 so its high chances that data can be more partial to 0 class\n",
    "Solution\n",
    "1. Undersampling nm = NearMiss()  X1,y1 = nm.fit_resample(X,y) ( A lot of info is lost)\n",
    "2. Oversampling\n",
    "    a) smk = SMOTETomek() X2,y2 = smk.fit_sample(X,y)\n",
    "    b) ros = RandomOverSampler() X3,y3 = ros.fit_sample(X,y)\n",
    "\"\"\""
   ]
  },
  {
   "cell_type": "code",
   "execution_count": 14,
   "metadata": {},
   "outputs": [
    {
     "name": "stdout",
     "output_type": "stream",
     "text": [
      "(30, 2)\n"
     ]
    },
    {
     "data": {
      "text/plain": [
       "0    27\n",
       "1     3\n",
       "Name: Fraud, dtype: int64"
      ]
     },
     "execution_count": 14,
     "metadata": {},
     "output_type": "execute_result"
    }
   ],
   "source": [
    "df = pd.read_csv(\"imbalanced_dataset.csv\")\n",
    "print(df.shape)\n",
    "df.Fraud.value_counts()"
   ]
  },
  {
   "cell_type": "code",
   "execution_count": 15,
   "metadata": {},
   "outputs": [],
   "source": [
    "X  = df.Salary.values.reshape(-1,1)\n",
    "y = df.Fraud"
   ]
  },
  {
   "cell_type": "code",
   "execution_count": 16,
   "metadata": {},
   "outputs": [],
   "source": [
    "# undersampling ---> The High class recorods will be redced to lower class \n",
    "# higher class --> 0(27 records) lower class is 1(3 record) so result will be 6 records 3 for class 0 and 3 for class 1\n",
    "\n",
    "nm = NearMiss()\n",
    "X1,y1 = nm.fit_resample(X,y)"
   ]
  },
  {
   "cell_type": "code",
   "execution_count": 17,
   "metadata": {},
   "outputs": [
    {
     "name": "stdout",
     "output_type": "stream",
     "text": [
      "(6, 1)\n",
      "(6,)\n"
     ]
    }
   ],
   "source": [
    "print(X1.shape)\n",
    "print(y1.shape)"
   ]
  },
  {
   "cell_type": "code",
   "execution_count": 24,
   "metadata": {},
   "outputs": [],
   "source": [
    "# Oversampling  -1\n",
    "\"\"\"\n",
    "1. 0 records --> 54\n",
    "2. 1 records --> 6\n",
    "After this \n",
    "1. 0 records --> 54\n",
    "2. 1 records --> 54\n",
    "\"\"\"\n",
    "df1 = pd.concat([df,df],axis=0)\n",
    "X = df1.Salary.values.reshape(-1,1)\n",
    "y = df1.Fraud\n",
    "smk = SMOTETomek()\n",
    "X2,y2 = smk.fit_sample(X,y)"
   ]
  },
  {
   "cell_type": "code",
   "execution_count": 28,
   "metadata": {},
   "outputs": [
    {
     "name": "stdout",
     "output_type": "stream",
     "text": [
      "(108, 1)\n",
      "54\n"
     ]
    }
   ],
   "source": [
    "print(X2.shape)\n",
    "print(sum(y2))"
   ]
  },
  {
   "cell_type": "code",
   "execution_count": 32,
   "metadata": {},
   "outputs": [
    {
     "name": "stdout",
     "output_type": "stream",
     "text": [
      "(108, 1)\n",
      "54\n"
     ]
    }
   ],
   "source": [
    "ros = RandomOverSampler()\n",
    "X3,y3 = ros.fit_sample(X,y)\n",
    "print(X3.shape)\n",
    "print(sum(y2))"
   ]
  },
  {
   "cell_type": "code",
   "execution_count": null,
   "metadata": {},
   "outputs": [],
   "source": []
  }
 ],
 "metadata": {
  "kernelspec": {
   "display_name": "Python 3",
   "language": "python",
   "name": "python3"
  },
  "language_info": {
   "codemirror_mode": {
    "name": "ipython",
    "version": 3
   },
   "file_extension": ".py",
   "mimetype": "text/x-python",
   "name": "python",
   "nbconvert_exporter": "python",
   "pygments_lexer": "ipython3",
   "version": "3.7.6"
  }
 },
 "nbformat": 4,
 "nbformat_minor": 4
}
