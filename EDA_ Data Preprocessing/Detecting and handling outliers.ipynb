{
 "cells": [
  {
   "cell_type": "code",
   "execution_count": 18,
   "metadata": {},
   "outputs": [],
   "source": [
    "import numpy as np\n",
    "import matplotlib.pyplot as plt\n",
    "import seaborn as sns"
   ]
  },
  {
   "cell_type": "code",
   "execution_count": null,
   "metadata": {},
   "outputs": [],
   "source": [
    "\"\"\"\n",
    "1. Outlier that is not matching to population, could be exception or measurement error\n",
    "2. But Outliers can impact result a lot, like it can impact mean and S.D. a lot\n",
    "\"\"\""
   ]
  },
  {
   "cell_type": "code",
   "execution_count": null,
   "metadata": {},
   "outputs": [],
   "source": [
    "\"\"\"\n",
    "1. Z_Score  ---> If anything i.e. more than 3 S.D(Standard deviation) away either side\n",
    "2. IQR      ---> If outside the range (q1-iqr*1.5 ,q1+iqr*1.5)\n",
    "3. Scatter Plot\n",
    "4. Box Plot\n",
    "\"\"\""
   ]
  },
  {
   "cell_type": "code",
   "execution_count": 23,
   "metadata": {},
   "outputs": [
    {
     "data": {
      "text/plain": [
       "<matplotlib.collections.PathCollection at 0x17c35d0a88>"
      ]
     },
     "execution_count": 23,
     "metadata": {},
     "output_type": "execute_result"
    },
    {
     "data": {
      "image/png": "[encoded data removed]",
      "text/plain": [
       "<Figure size 432x288 with 1 Axes>"
      ]
     },
     "metadata": {
      "needs_background": "light"
     },
     "output_type": "display_data"
    }
   ],
   "source": [
    "data = np.array([\n",
    "    [1,1],\n",
    "    [2,2],\n",
    "    [3,3],\n",
    "    [4,4],\n",
    "    [5,5],\n",
    "    [6,20],\n",
    "])\n",
    "plt.scatter(data[:,0],data[:,1],c='g')"
   ]
  },
  {
   "cell_type": "markdown",
   "metadata": {},
   "source": [
    "plt.scatter(data[:,0],data[:,1],c='g')"
   ]
  },
  {
   "cell_type": "code",
   "execution_count": 22,
   "metadata": {},
   "outputs": [
    {
     "data": {
      "text/plain": [
       "<matplotlib.axes._subplots.AxesSubplot at 0x17c3a9ba08>"
      ]
     },
     "execution_count": 22,
     "metadata": {},
     "output_type": "execute_result"
    },
    {
     "data": {
      "image/png": "[encoded data removed]",
      "text/plain": [
       "<Figure size 432x288 with 1 Axes>"
      ]
     },
     "metadata": {
      "needs_background": "light"
     },
     "output_type": "display_data"
    }
   ],
   "source": [
    "sns.boxplot(data,orient=\"v\")"
   ]
  },
  {
   "cell_type": "code",
   "execution_count": 31,
   "metadata": {},
   "outputs": [
    {
     "name": "stdout",
     "output_type": "stream",
     "text": [
      "[20]\n"
     ]
    }
   ],
   "source": [
    "# IQR\n",
    "data1 = np.array([1,2,3,4,5,20])\n",
    "def detecting_outliers_using_iqr(data):\n",
    "    Q1,Q3 = np.percentile(data1,[25,75])\n",
    "    IQR = Q3 - Q1\n",
    "    lower_bound = Q1 - (1.5*IQR)\n",
    "    upper_bound = Q3 + (1.5*IQR)\n",
    "    outlier = []\n",
    "    for i in data:\n",
    "        if i > upper_bound or i < lower_bound:\n",
    "            outlier.append(i)\n",
    "    return outlier\n",
    "print(detecting_outliers_using_iqr(data1))"
   ]
  },
  {
   "cell_type": "code",
   "execution_count": 41,
   "metadata": {},
   "outputs": [
    {
     "name": "stdout",
     "output_type": "stream",
     "text": [
      "[50]\n"
     ]
    }
   ],
   "source": [
    "# Z_score\n",
    "data1 = np.array([1,2,3,4,5,6,7,8,9,10,50])\n",
    "def detecting_outliers_using_zscore(data):\n",
    "    mean = np.mean(data1)\n",
    "    sd = np.std(data1)\n",
    "    threshold = 3\n",
    "    outlier = []\n",
    "    for i in data:\n",
    "        z_score = abs(i-mean)/sd\n",
    "        if z_score > 3:\n",
    "            outlier.append(i)\n",
    "    return outlier\n",
    "print(detecting_outliers_using_zscore(data1))"
   ]
  },
  {
   "cell_type": "code",
   "execution_count": 34,
   "metadata": {},
   "outputs": [
    {
     "data": {
      "text/plain": [
       "4"
      ]
     },
     "execution_count": 34,
     "metadata": {},
     "output_type": "execute_result"
    }
   ],
   "source": []
  },
  {
   "cell_type": "code",
   "execution_count": null,
   "metadata": {},
   "outputs": [],
   "source": []
  }
 ],
 "metadata": {
  "kernelspec": {
   "display_name": "Python 3",
   "language": "python",
   "name": "python3"
  },
  "language_info": {
   "codemirror_mode": {
    "name": "ipython",
    "version": 3
   },
   "file_extension": ".py",
   "mimetype": "text/x-python",
   "name": "python",
   "nbconvert_exporter": "python",
   "pygments_lexer": "ipython3",
   "version": "3.7.6"
  }
 },
 "nbformat": 4,
 "nbformat_minor": 4
}
