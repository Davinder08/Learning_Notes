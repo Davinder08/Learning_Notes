{
 "cells": [
  {
   "cell_type": "code",
   "execution_count": 1,
   "metadata": {},
   "outputs": [
    {
     "data": {
      "text/plain": [
       "'\\n1. Input() ---> As string\\n2. eval()  ---> Directly into Integer\\n3. print()\\n4. str(),int(),hex(),float(),bool()\\n5. escape char (\\\\,\\x08,\\t,\\n)\\n6. random.random(),random.randint(),random.shuffle(list)\\n7. if elif else\\n8. Logical operators --> not and or\\n9. Ternary Operator --> print(\"hello\" if x > 2 else \"bye\")\\n10. While loop, for loop, break, continue,pass\\n11. functions,default,positional,keyword params\\n12. \\n'"
      ]
     },
     "execution_count": 1,
     "metadata": {},
     "output_type": "execute_result"
    }
   ],
   "source": [
    "# Methods\n",
    "\"\"\"\n",
    "1. Input() ---> As string\n",
    "2. eval()  ---> Directly into Integer\n",
    "3. print()\n",
    "4. str(),int(),hex(),float(),bool()\n",
    "5. escape char (\\,\\b,\\t,\\n)\n",
    "6. random.random(),random.randint(),random.shuffle(list)\n",
    "7. if elif else\n",
    "8. Logical operators --> not and or\n",
    "9. Ternary Operator --> print(\"hello\" if x > 2 else \"bye\")\n",
    "10. While loop, for loop, break, continue,pass\n",
    "11. functions,default,positional,keyword params\n",
    "12. \n",
    "\"\"\""
   ]
  },
  {
   "cell_type": "code",
   "execution_count": 27,
   "metadata": {},
   "outputs": [
    {
     "name": "stdout",
     "output_type": "stream",
     "text": [
      "<re.Match object; span=(0, 11), match='v@gmail.com'>\n"
     ]
    }
   ],
   "source": [
    "import re\n",
    "txt = \"v@gmail.com\"\n",
    "x = re.search(\"^[A-Za-z]{1}@(gmail|yahoo|hotmail)\\.com\", txt)\n",
    "print(x)"
   ]
  },
  {
   "cell_type": "code",
   "execution_count": null,
   "metadata": {},
   "outputs": [],
   "source": []
  }
 ],
 "metadata": {
  "kernelspec": {
   "display_name": "Python 3",
   "language": "python",
   "name": "python3"
  },
  "language_info": {
   "codemirror_mode": {
    "name": "ipython",
    "version": 3
   },
   "file_extension": ".py",
   "mimetype": "text/x-python",
   "name": "python",
   "nbconvert_exporter": "python",
   "pygments_lexer": "ipython3",
   "version": "3.7.6"
  }
 },
 "nbformat": 4,
 "nbformat_minor": 4
}
