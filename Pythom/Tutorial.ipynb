{
 "cells": [
  {
   "cell_type": "code",
   "execution_count": 24,
   "metadata": {},
   "outputs": [
    {
     "name": "stdout",
     "output_type": "stream",
     "text": [
      "c:\\n\\n\\n\n"
     ]
    }
   ],
   "source": [
    "print(r'c:\\n\\n\\n')# print raw string no interpretetion"
   ]
  },
  {
   "cell_type": "code",
   "execution_count": 25,
   "metadata": {},
   "outputs": [
    {
     "data": {
      "text/plain": [
       "10"
      ]
     },
     "execution_count": 25,
     "metadata": {},
     "output_type": "execute_result"
    }
   ],
   "source": [
    "10"
   ]
  },
  {
   "cell_type": "code",
   "execution_count": 26,
   "metadata": {},
   "outputs": [
    {
     "data": {
      "text/plain": [
       "15"
      ]
     },
     "execution_count": 26,
     "metadata": {},
     "output_type": "execute_result"
    }
   ],
   "source": [
    "_ + 5  #(_ is for output of previous operation)\n",
    "    "
   ]
  },
  {
   "cell_type": "code",
   "execution_count": 27,
   "metadata": {},
   "outputs": [
    {
     "name": "stdout",
     "output_type": "stream",
     "text": [
      "ello\n"
     ]
    }
   ],
   "source": [
    "a= \"hello\"\n",
    "print(a[1:10]) # if we are giving last subscript greater.. no issues.. willwork"
   ]
  },
  {
   "cell_type": "code",
   "execution_count": 28,
   "metadata": {},
   "outputs": [
    {
     "name": "stdout",
     "output_type": "stream",
     "text": [
      "[1, 5, 7, 8, 4, 6]\n",
      "[1, 8, 4, 6]\n"
     ]
    }
   ],
   "source": [
    "l = [1,5,7,8,4,6]\n",
    "print(l)\n",
    "del l[1:3]\n",
    "print(l)"
   ]
  },
  {
   "cell_type": "code",
   "execution_count": 29,
   "metadata": {},
   "outputs": [],
   "source": [
    "# Set uses the hash concept for storing values"
   ]
  },
  {
   "cell_type": "code",
   "execution_count": 33,
   "metadata": {},
   "outputs": [
    {
     "name": "stdout",
     "output_type": "stream",
     "text": [
      "{1: 'a', 2: 'b', 3: 'c'}\n",
      "a\n",
      "None\n",
      "Not Found\n",
      "a\n",
      "{1: 'a', 2: ['a', 'b', 'c'], 3: {1: 'a', 2: 'b'}}\n",
      "['b', 'c']\n",
      "b\n"
     ]
    }
   ],
   "source": [
    "# Dictionary\n",
    "key = [1,2,3]\n",
    "values = ['a','b','c']\n",
    "dic = dict(zip(key,values))\n",
    "print(dic)\n",
    "print(dic.get(1))\n",
    "print(dic.get(4)) # if key not present no error, if you use, dic[4].... error.. this is dic with key =4\n",
    "print(dic.get(4,'Not Found'))\n",
    "print(dic.get(1,'Not Found'))\n",
    "\n",
    "dic = {1:'a',2:['a','b','c'],3:{1:'a',2:'b'}}\n",
    "print(dic)\n",
    "print(dic[2][1:3])\n",
    "print(dic[3][2])"
   ]
  },
  {
   "cell_type": "code",
   "execution_count": 34,
   "metadata": {},
   "outputs": [],
   "source": [
    "# setting path\n",
    "#1. use command prompt 'setpath' ..but that is for that cmd session only\n",
    "#2. Go to env variables add new and give the path where python is installed\n"
   ]
  },
  {
   "cell_type": "code",
   "execution_count": 35,
   "metadata": {},
   "outputs": [
    {
     "name": "stdout",
     "output_type": "stream",
     "text": [
      "140726310057072\n",
      "140726310057072\n",
      "140726310057072\n",
      "140726310057072\n"
     ]
    }
   ],
   "source": [
    "a = 10\n",
    "print(id(a))\n",
    "b = a\n",
    "print(id(b))\n",
    "c = 10\n",
    "print(id(c))\n",
    "print(id(10))\n",
    "# all same\n",
    "# Garbage collector... when a variable is derefrenced then the address is ready for garbage collector"
   ]
  },
  {
   "cell_type": "code",
   "execution_count": 36,
   "metadata": {},
   "outputs": [
    {
     "data": {
      "text/plain": [
       "'\\n1. None.. variable with assigned value\\n2. Numeric\\n a. int\\n b. flaot\\n c. complex ...a= 6+7j\\n d. bool\\n3. Sequence types\\n  a.list\\n  b. set\\n  c. tuple\\n  d. range ... print(list(range(10)))... print 0-9.. to get the values.. use list function\\n  e. string\\n4. Dictoinary\\n\\n'"
      ]
     },
     "execution_count": 36,
     "metadata": {},
     "output_type": "execute_result"
    }
   ],
   "source": [
    "# data types\n",
    "'''\n",
    "1. None.. variable with assigned value\n",
    "2. Numeric\n",
    " a. int\n",
    " b. flaot\n",
    " c. complex ...a= 6+7j\n",
    " d. bool\n",
    "3. Sequence types\n",
    "  a.list\n",
    "  b. set\n",
    "  c. tuple\n",
    "  d. range ... print(list(range(10)))... print 0-9.. to get the values.. use list function\n",
    "  e. string\n",
    "4. Dictoinary\n",
    "\n",
    "'''"
   ]
  },
  {
   "cell_type": "code",
   "execution_count": 38,
   "metadata": {},
   "outputs": [
    {
     "name": "stdout",
     "output_type": "stream",
     "text": [
      "0b10100\n",
      "0o24\n",
      "0x14\n",
      "20\n"
     ]
    }
   ],
   "source": [
    "# Number system conversion\n",
    "n  = 20\n",
    "print(bin(20))\n",
    "print(oct(20))\n",
    "print(hex(20))\n",
    "n= 0o24\n",
    "print(n)"
   ]
  },
  {
   "cell_type": "code",
   "execution_count": 39,
   "metadata": {},
   "outputs": [
    {
     "data": {
      "text/plain": [
       "\"\\n# bit wise operators\\n1. ^ xor\\n2. ~ 2's complement\\n3. & AND\\n4. | OR\\n\""
      ]
     },
     "execution_count": 39,
     "metadata": {},
     "output_type": "execute_result"
    }
   ],
   "source": [
    "'''\n",
    "# bit wise operators\n",
    "1. ^ xor\n",
    "2. ~ 2's complement\n",
    "3. & AND\n",
    "4. | OR\n",
    "'''\n"
   ]
  },
  {
   "cell_type": "code",
   "execution_count": 40,
   "metadata": {},
   "outputs": [
    {
     "data": {
      "text/plain": [
       "'\\nRun file \\n1. Using IDLE...\\n    a.) File... New File... Save and run\\n    b.) Use notepad...save in .py\\n2. Using cmd\\n    a.) Go to the library.... use python filename\\n3. IDE ... Debugging option is there as well\\n\\n'"
      ]
     },
     "execution_count": 40,
     "metadata": {},
     "output_type": "execute_result"
    }
   ],
   "source": [
    "'''\n",
    "Run file \n",
    "1. Using IDLE...\n",
    "    a.) File... New File... Save and run\n",
    "    b.) Use notepad...save in .py\n",
    "2. Using cmd\n",
    "    a.) Go to the library.... use python filename\n",
    "3. IDE ... Debugging option is there as well\n",
    "\n",
    "\n",
    "'''"
   ]
  },
  {
   "cell_type": "code",
   "execution_count": 42,
   "metadata": {},
   "outputs": [
    {
     "name": "stdout",
     "output_type": "stream",
     "text": [
      "C:\\Users\\Garg\\Anaconda3\\lib\\site-packages\\ipykernel_launcher.py\n"
     ]
    }
   ],
   "source": [
    "'''\n",
    "#input from user\n",
    "1. Input()\n",
    "2. eval(input()).... evaluate a expression ... 2+6-1\n",
    "3. argv....0 is file name... 1 onwards are arguments...all in string format\n",
    "''' \n",
    "import sys\n",
    "print(sys.argv[0])"
   ]
  },
  {
   "cell_type": "code",
   "execution_count": 43,
   "metadata": {},
   "outputs": [],
   "source": [
    "# indentation ..by default 4 spaces.. 1 tab"
   ]
  },
  {
   "cell_type": "code",
   "execution_count": 44,
   "metadata": {},
   "outputs": [
    {
     "name": "stdin",
     "output_type": "stream",
     "text": [
      "Enter a number 4\n"
     ]
    }
   ],
   "source": [
    "# usage of pass... used for no instructions\n",
    "def a():\n",
    "    pass\n",
    "class x:\n",
    "    pass\n",
    "x = int(input(\"Enter a number\"))\n",
    "if x %2==0:\n",
    "    pass\n",
    "else:\n",
    "    print(\"Odd Number\")\n"
   ]
  },
  {
   "cell_type": "code",
   "execution_count": 46,
   "metadata": {},
   "outputs": [
    {
     "name": "stdout",
     "output_type": "stream",
     "text": [
      "No condition were executed in for loop\n"
     ]
    }
   ],
   "source": [
    "# for else in python\n",
    "\n",
    "l1 = [1,2,3,4]\n",
    "for i in l1:\n",
    "    if i % 5==0:\n",
    "        print(\"Hello\")\n",
    "        break            # manadtory for \"For else\"\n",
    "else:\n",
    "    print(\"No condition were executed in for loop\")"
   ]
  },
  {
   "cell_type": "code",
   "execution_count": null,
   "metadata": {},
   "outputs": [],
   "source": []
  },
  {
   "cell_type": "code",
   "execution_count": null,
   "metadata": {},
   "outputs": [],
   "source": []
  },
  {
   "cell_type": "code",
   "execution_count": 55,
   "metadata": {},
   "outputs": [
    {
     "data": {
      "text/plain": [
       "'\\nThis(3 quotes) is always used for documentation, dont use it for comments \\n'"
      ]
     },
     "execution_count": 55,
     "metadata": {},
     "output_type": "execute_result"
    }
   ],
   "source": [
    "'''\n",
    "This(3 quotes) is always used for documentation, dont use it for comments \n",
    "'''"
   ]
  },
  {
   "cell_type": "code",
   "execution_count": 56,
   "metadata": {},
   "outputs": [
    {
     "data": {
      "text/plain": [
       "'\\ncompiled language is a one where compiler converts your code to machine language\\n1. python ---> code-->compiler-->bytecode--->PYM(Python virtual machine) ---> machine code\\n2. PYM --> required for code portability\\n\\npython types\\n1. cpython ....python implemented in c\\n1. jpython ....python implemented in java\\n1. ironpython ....python implemented in .dot net\\n'"
      ]
     },
     "execution_count": 56,
     "metadata": {},
     "output_type": "execute_result"
    }
   ],
   "source": [
    "'''\n",
    "compiled language is a one where compiler converts your code to machine language\n",
    "1. python ---> code-->compiler-->bytecode--->PYM(Python virtual machine) ---> machine code\n",
    "2. PYM --> required for code portability\n",
    "\n",
    "python types\n",
    "1. cpython ....python implemented in c\n",
    "1. jpython ....python implemented in java\n",
    "1. ironpython ....python implemented in .dot net\n",
    "'''"
   ]
  },
  {
   "cell_type": "code",
   "execution_count": null,
   "metadata": {},
   "outputs": [],
   "source": []
  },
  {
   "cell_type": "code",
   "execution_count": null,
   "metadata": {},
   "outputs": [],
   "source": []
  }
 ],
 "metadata": {
  "kernelspec": {
   "display_name": "Python 3",
   "language": "python",
   "name": "python3"
  },
  "language_info": {
   "codemirror_mode": {
    "name": "ipython",
    "version": 3
   },
   "file_extension": ".py",
   "mimetype": "text/x-python",
   "name": "python",
   "nbconvert_exporter": "python",
   "pygments_lexer": "ipython3",
   "version": "3.7.6"
  }
 },
 "nbformat": 4,
 "nbformat_minor": 4
}
