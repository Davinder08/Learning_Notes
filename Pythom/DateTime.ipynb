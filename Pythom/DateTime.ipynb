{
 "cells": [
  {
   "cell_type": "code",
   "execution_count": 1,
   "metadata": {},
   "outputs": [],
   "source": [
    "#dates in python"
   ]
  },
  {
   "cell_type": "code",
   "execution_count": 13,
   "metadata": {},
   "outputs": [],
   "source": [
    "from datetime import *"
   ]
  },
  {
   "cell_type": "code",
   "execution_count": 14,
   "metadata": {},
   "outputs": [
    {
     "name": "stdout",
     "output_type": "stream",
     "text": [
      "2020-03-20\n",
      "2020 3 20 4 5\n"
     ]
    }
   ],
   "source": [
    "print(date(2020,3,20)) # year,month day with no traling 0\n",
    "d = date.today()\n",
    "print(d.year,d.month,d.day,d.weekday(),d.isoweekday())  # its thursday today ... weeday..0-6, iso---- 1-7"
   ]
  },
  {
   "cell_type": "code",
   "execution_count": 17,
   "metadata": {},
   "outputs": [
    {
     "name": "stdout",
     "output_type": "stream",
     "text": [
      "<class 'datetime.date'> 2020-03-13\n"
     ]
    }
   ],
   "source": [
    "# timedelta concept\n",
    "# date2 = date1 + timedelta ... if the operation is b/e date and delta...it returns a date\n",
    "# tdelta = date1 + date .... if the operation is b/w 2 dates it return delta object\n",
    "\n",
    "tdelta = timedelta(days=7)\n",
    "f = d - tdelta\n",
    "print(type(f),f)"
   ]
  },
  {
   "cell_type": "code",
   "execution_count": 20,
   "metadata": {},
   "outputs": [
    {
     "name": "stdout",
     "output_type": "stream",
     "text": [
      "<class 'datetime.timedelta'> 7 days, 0:00:00\n",
      "7\n",
      "604800.0\n"
     ]
    }
   ],
   "source": [
    "td1 = d - f\n",
    "print(type(td1),td1)\n",
    "print(td1.days)\n",
    "print(td1.total_seconds())"
   ]
  },
  {
   "cell_type": "code",
   "execution_count": 30,
   "metadata": {},
   "outputs": [
    {
     "name": "stdout",
     "output_type": "stream",
     "text": [
      "12:30:20.100000\n",
      "12\n",
      "30\n",
      "20\n",
      "100000\n"
     ]
    }
   ],
   "source": [
    "# time function\n",
    "t = time(12,30,20,100000) # hour,mins,sec,micro\n",
    "print(t)\n",
    "print(t.hour)\n",
    "print(t.minute)\n",
    "print(t.second)\n",
    "print(t.microsecond)"
   ]
  },
  {
   "cell_type": "code",
   "execution_count": 40,
   "metadata": {},
   "outputs": [
    {
     "name": "stdout",
     "output_type": "stream",
     "text": [
      "2020-03-20 12:30:20.100000\n",
      "2020-03-20\n",
      "12:30:20.100000\n",
      "12 30 20 100000\n",
      "2020 3 20\n",
      "2020-03-21 00:30:20.100000\n"
     ]
    }
   ],
   "source": [
    "dt = datetime(2020,3,20,12,30,20,100000)\n",
    "print(dt)\n",
    "print(dt.date())\n",
    "print(dt.time())\n",
    "print(dt.hour,dt.minute,dt.second,dt.microsecond)\n",
    "print(dt.year,dt.month,dt.day)\n",
    "tdl = timedelta(hours = 12)\n",
    "print(dt+tdl)"
   ]
  },
  {
   "cell_type": "code",
   "execution_count": 42,
   "metadata": {},
   "outputs": [
    {
     "name": "stdout",
     "output_type": "stream",
     "text": [
      "2020-03-20 12:45:29.649100\n",
      "2020-03-20 12:45:29.650106\n",
      "2020-03-20 07:15:29.651102\n"
     ]
    }
   ],
   "source": [
    "dt_today = datetime.today()  \n",
    "dt_now = datetime.now()  # same as above but additionaly we can give timezone\n",
    "dt_utcnow = datetime.utcnow()  # gmt time, can give a time zone\n",
    "print(dt_today) \n",
    "print(dt_now)\n",
    "print(dt_utcnow)"
   ]
  },
  {
   "cell_type": "code",
   "execution_count": 43,
   "metadata": {},
   "outputs": [],
   "source": [
    "import pytz"
   ]
  },
  {
   "cell_type": "code",
   "execution_count": 49,
   "metadata": {},
   "outputs": [
    {
     "name": "stdout",
     "output_type": "stream",
     "text": [
      "2020-03-20 12:30:20.100000+00:00\n",
      "2020-03-20 07:27:41.495826+00:00\n",
      "2020-03-20 07:27:41.495826+00:00\n"
     ]
    }
   ],
   "source": [
    "dt = datetime(2020,3,20,12,30,20,100000,tzinfo=pytz.UTC)\n",
    "print(dt)\n",
    "dt_now = datetime.now(tz=pytz.UTC)   # UTC is for timezone 00... now we arehaving timezone info\n",
    "print(dt_now)\n",
    "dt_utcnow= datetime.utcnow().replace(tzinfo=pytz.UTC)# UTC is for timezone 00... now we arehaving timezone info\n",
    "                          # can't take tzinfo parm so other way to do this\n",
    "print(dt_utcnow)"
   ]
  },
  {
   "cell_type": "code",
   "execution_count": 51,
   "metadata": {},
   "outputs": [
    {
     "name": "stdout",
     "output_type": "stream",
     "text": [
      "Africa/Abidjan\n",
      "Africa/Accra\n",
      "Africa/Addis_Ababa\n",
      "Africa/Algiers\n",
      "Africa/Asmara\n",
      "Africa/Asmera\n",
      "Africa/Bamako\n",
      "Africa/Bangui\n",
      "Africa/Banjul\n",
      "Africa/Bissau\n",
      "Africa/Blantyre\n",
      "Africa/Brazzaville\n",
      "Africa/Bujumbura\n",
      "Africa/Cairo\n",
      "Africa/Casablanca\n",
      "Africa/Ceuta\n",
      "Africa/Conakry\n",
      "Africa/Dakar\n",
      "Africa/Dar_es_Salaam\n",
      "Africa/Djibouti\n",
      "Africa/Douala\n",
      "2020-03-20 07:33:10.832466+00:00\n",
      "2020-03-20 08:33:10.832466+01:00\n"
     ]
    }
   ],
   "source": [
    "# from now we can use datetime.now()\n",
    "# print all timezones\n",
    "j=0\n",
    "for i in pytz.all_timezones:\n",
    "    print(i)\n",
    "    j+=1\n",
    "    if j >20:\n",
    "        break\n",
    "# change timezone\n",
    "dt_now = datetime.now(tz=pytz.UTC)   # UTC is for timezone 00... now we arehaving timezone info\n",
    "print(dt_now)\n",
    "print(dt_now.astimezone(pytz.timezone('Africa/Algiers')))"
   ]
  },
  {
   "cell_type": "code",
   "execution_count": 55,
   "metadata": {},
   "outputs": [
    {
     "name": "stdout",
     "output_type": "stream",
     "text": [
      "2020-03-20 13:10:20.962628\n",
      "2020-03-20 15:10:20.962628-04:00\n"
     ]
    }
   ],
   "source": [
    "# convert simple now date to timezone aware\n",
    "d = datetime.now()\n",
    "print(d)\n",
    "tz1 = pytz.timezone('US/Mountain')\n",
    "d1 = tz1.localize(d)  # localize to a timezone..make timezone aware\n",
    "print(d1.astimezone(pytz.timezone('US/Eastern')))  # now after making timezone aware... we can change timezoen"
   ]
  },
  {
   "cell_type": "code",
   "execution_count": 57,
   "metadata": {},
   "outputs": [
    {
     "name": "stdout",
     "output_type": "stream",
     "text": [
      "2020-03-20T03:44:29.995884-04:00\n"
     ]
    }
   ],
   "source": [
    "dt_now = datetime.now(tz=pytz.timezone('US/Eastern'))\n",
    "print(dt_now.isoformat()) # print in iternational format\n"
   ]
  },
  {
   "cell_type": "code",
   "execution_count": 60,
   "metadata": {},
   "outputs": [
    {
     "name": "stdout",
     "output_type": "stream",
     "text": [
      "March 20, 2020 <class 'str'>\n",
      "2020-03-20 00:00:00 <class 'datetime.datetime'>\n"
     ]
    }
   ],
   "source": [
    "# strftime -- date to string format\n",
    "# strptime -- string to date\n",
    "print(dt_now.strftime('%B %d, %Y'),type(dt_now.strftime('%B %d, %Y')))\n",
    "dt = datetime.strptime('March 20, 2020','%B %d, %Y')\n",
    "print(dt,type(dt))"
   ]
  },
  {
   "cell_type": "code",
   "execution_count": 61,
   "metadata": {},
   "outputs": [],
   "source": [
    "import sys"
   ]
  },
  {
   "cell_type": "code",
   "execution_count": 64,
   "metadata": {},
   "outputs": [
    {
     "name": "stderr",
     "output_type": "stream",
     "text": [
      "Hello"
     ]
    },
    {
     "name": "stdout",
     "output_type": "stream",
     "text": [
      "HI"
     ]
    }
   ],
   "source": [
    "sys.stderr.write(\"Hello\")  # used for error purpose\n",
    "sys.stderr.flush()\n",
    "sys.stdout.write(\"HI\") # used for standard output"
   ]
  },
  {
   "cell_type": "code",
   "execution_count": 65,
   "metadata": {},
   "outputs": [],
   "source": [
    "import os"
   ]
  },
  {
   "cell_type": "code",
   "execution_count": null,
   "metadata": {},
   "outputs": [],
   "source": []
  }
 ],
 "metadata": {
  "kernelspec": {
   "display_name": "Python 3",
   "language": "python",
   "name": "python3"
  },
  "language_info": {
   "codemirror_mode": {
    "name": "ipython",
    "version": 3
   },
   "file_extension": ".py",
   "mimetype": "text/x-python",
   "name": "python",
   "nbconvert_exporter": "python",
   "pygments_lexer": "ipython3",
   "version": "3.7.6"
  }
 },
 "nbformat": 4,
 "nbformat_minor": 4
}
