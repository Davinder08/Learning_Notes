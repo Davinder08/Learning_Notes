{
 "cells": [
  {
   "cell_type": "code",
   "execution_count": 73,
   "metadata": {},
   "outputs": [],
   "source": [
    "import numpy as np\n",
    "import pandas as pd\n",
    "from sklearn.decomposition import PCA,IncrementalPCA\n",
    "from sklearn.model_selection import train_test_split\n",
    "import seaborn as sns\n",
    "import matplotlib.pyplot as plt\n",
    "from sklearn.discriminant_analysis import LinearDiscriminantAnalysis as LDA\n",
    "from sklearn.preprocessing import MinMaxScaler"
   ]
  },
  {
   "cell_type": "code",
   "execution_count": null,
   "metadata": {},
   "outputs": [],
   "source": [
    "# For feature extraction we will use \n",
    "\"\"\"\n",
    "1. PCA (For any kind of DS)\n",
    "2. LDA (For classification examples)\n",
    "\"\"\""
   ]
  },
  {
   "cell_type": "code",
   "execution_count": 74,
   "metadata": {},
   "outputs": [],
   "source": [
    "# PCA\n",
    "df  = pd.read_csv('data_for_pca.csv')\n",
    "df.head()\n",
    "test = df\n",
    "y = test.pop('price')\n",
    "X = test\n",
    "X_train,X_test,y_train,y_test = train_test_split(X,y,train_size=0.75)"
   ]
  },
  {
   "cell_type": "code",
   "execution_count": 75,
   "metadata": {},
   "outputs": [],
   "source": [
    "pca = PCA(svd_solver='randomized',random_state=42) # Making PCA object"
   ]
  },
  {
   "cell_type": "code",
   "execution_count": 76,
   "metadata": {},
   "outputs": [
    {
     "data": {
      "text/plain": [
       "PCA(copy=True, iterated_power='auto', n_components=None, random_state=42,\n",
       "    svd_solver='randomized', tol=0.0, whiten=False)"
      ]
     },
     "execution_count": 76,
     "metadata": {},
     "output_type": "execute_result"
    }
   ],
   "source": [
    "pca.fit(X_train)  # Fit Data"
   ]
  },
  {
   "cell_type": "code",
   "execution_count": 77,
   "metadata": {},
   "outputs": [
    {
     "name": "stdout",
     "output_type": "stream",
     "text": [
      "(408, 13)\n"
     ]
    },
    {
     "data": {
      "text/plain": [
       "(13, 13)"
      ]
     },
     "execution_count": 77,
     "metadata": {},
     "output_type": "execute_result"
    }
   ],
   "source": [
    "print(X_train.shape)\n",
    "pca.components_.shape # It will create the features as mans as columns"
   ]
  },
  {
   "cell_type": "code",
   "execution_count": 78,
   "metadata": {},
   "outputs": [],
   "source": [
    "pca_df = pd.DataFrame({'PC1':pca.components_[1],'PC2':pca.components_[1],'Feature':list(X_train.columns)})"
   ]
  },
  {
   "cell_type": "code",
   "execution_count": 79,
   "metadata": {},
   "outputs": [
    {
     "data": {
      "text/html": [
       "<div>\n",
       "<style scoped>\n",
       "    .dataframe tbody tr th:only-of-type {\n",
       "        vertical-align: middle;\n",
       "    }\n",
       "\n",
       "    .dataframe tbody tr th {\n",
       "        vertical-align: top;\n",
       "    }\n",
       "\n",
       "    .dataframe thead th {\n",
       "        text-align: right;\n",
       "    }\n",
       "</style>\n",
       "<table border=\"1\" class=\"dataframe\">\n",
       "  <thead>\n",
       "    <tr style=\"text-align: right;\">\n",
       "      <th></th>\n",
       "      <th>PC1</th>\n",
       "      <th>PC2</th>\n",
       "      <th>Feature</th>\n",
       "    </tr>\n",
       "  </thead>\n",
       "  <tbody>\n",
       "    <tr>\n",
       "      <th>0</th>\n",
       "      <td>-0.000089</td>\n",
       "      <td>-0.000089</td>\n",
       "      <td>area</td>\n",
       "    </tr>\n",
       "    <tr>\n",
       "      <th>1</th>\n",
       "      <td>0.483872</td>\n",
       "      <td>0.483872</td>\n",
       "      <td>bedrooms</td>\n",
       "    </tr>\n",
       "    <tr>\n",
       "      <th>2</th>\n",
       "      <td>0.261064</td>\n",
       "      <td>0.261064</td>\n",
       "      <td>bathrooms</td>\n",
       "    </tr>\n",
       "    <tr>\n",
       "      <th>3</th>\n",
       "      <td>0.810146</td>\n",
       "      <td>0.810146</td>\n",
       "      <td>stories</td>\n",
       "    </tr>\n",
       "    <tr>\n",
       "      <th>4</th>\n",
       "      <td>0.021349</td>\n",
       "      <td>0.021349</td>\n",
       "      <td>mainroad</td>\n",
       "    </tr>\n",
       "    <tr>\n",
       "      <th>5</th>\n",
       "      <td>0.029011</td>\n",
       "      <td>0.029011</td>\n",
       "      <td>guestroom</td>\n",
       "    </tr>\n",
       "    <tr>\n",
       "      <th>6</th>\n",
       "      <td>-0.027269</td>\n",
       "      <td>-0.027269</td>\n",
       "      <td>basement</td>\n",
       "    </tr>\n",
       "    <tr>\n",
       "      <th>7</th>\n",
       "      <td>0.018193</td>\n",
       "      <td>0.018193</td>\n",
       "      <td>hotwaterheating</td>\n",
       "    </tr>\n",
       "    <tr>\n",
       "      <th>8</th>\n",
       "      <td>0.160586</td>\n",
       "      <td>0.160586</td>\n",
       "      <td>airconditioning</td>\n",
       "    </tr>\n",
       "    <tr>\n",
       "      <th>9</th>\n",
       "      <td>0.093920</td>\n",
       "      <td>0.093920</td>\n",
       "      <td>parking</td>\n",
       "    </tr>\n",
       "    <tr>\n",
       "      <th>10</th>\n",
       "      <td>0.030914</td>\n",
       "      <td>0.030914</td>\n",
       "      <td>prefarea</td>\n",
       "    </tr>\n",
       "    <tr>\n",
       "      <th>11</th>\n",
       "      <td>0.005507</td>\n",
       "      <td>0.005507</td>\n",
       "      <td>semi-furnished</td>\n",
       "    </tr>\n",
       "    <tr>\n",
       "      <th>12</th>\n",
       "      <td>-0.058387</td>\n",
       "      <td>-0.058387</td>\n",
       "      <td>unfurnished</td>\n",
       "    </tr>\n",
       "  </tbody>\n",
       "</table>\n",
       "</div>"
      ],
      "text/plain": [
       "         PC1       PC2          Feature\n",
       "0  -0.000089 -0.000089             area\n",
       "1   0.483872  0.483872         bedrooms\n",
       "2   0.261064  0.261064        bathrooms\n",
       "3   0.810146  0.810146          stories\n",
       "4   0.021349  0.021349         mainroad\n",
       "5   0.029011  0.029011        guestroom\n",
       "6  -0.027269 -0.027269         basement\n",
       "7   0.018193  0.018193  hotwaterheating\n",
       "8   0.160586  0.160586  airconditioning\n",
       "9   0.093920  0.093920          parking\n",
       "10  0.030914  0.030914         prefarea\n",
       "11  0.005507  0.005507   semi-furnished\n",
       "12 -0.058387 -0.058387      unfurnished"
      ]
     },
     "execution_count": 79,
     "metadata": {},
     "output_type": "execute_result"
    }
   ],
   "source": [
    "pca_df # First 2 PCAcomponents"
   ]
  },
  {
   "cell_type": "code",
   "execution_count": 80,
   "metadata": {},
   "outputs": [
    {
     "data": {
      "text/plain": [
       "<matplotlib.axes._subplots.AxesSubplot at 0xcbaa4b2e48>"
      ]
     },
     "execution_count": 80,
     "metadata": {},
     "output_type": "execute_result"
    },
    {
     "data": {
      "image/png": "[encoded data removed]",
      "text/plain": [
       "<Figure size 432x288 with 2 Axes>"
      ]
     },
     "metadata": {
      "needs_background": "light"
     },
     "output_type": "display_data"
    }
   ],
   "source": [
    "sns.heatmap(pd.DataFrame(pca.components_).corr()) # in PCA features arehaving least correlation"
   ]
  },
  {
   "cell_type": "code",
   "execution_count": 81,
   "metadata": {},
   "outputs": [
    {
     "data": {
      "text/html": [
       "<div>\n",
       "<style scoped>\n",
       "    .dataframe tbody tr th:only-of-type {\n",
       "        vertical-align: middle;\n",
       "    }\n",
       "\n",
       "    .dataframe tbody tr th {\n",
       "        vertical-align: top;\n",
       "    }\n",
       "\n",
       "    .dataframe thead th {\n",
       "        text-align: right;\n",
       "    }\n",
       "</style>\n",
       "<table border=\"1\" class=\"dataframe\">\n",
       "  <thead>\n",
       "    <tr style=\"text-align: right;\">\n",
       "      <th></th>\n",
       "      <th>0</th>\n",
       "      <th>1</th>\n",
       "      <th>2</th>\n",
       "      <th>3</th>\n",
       "      <th>4</th>\n",
       "      <th>5</th>\n",
       "      <th>6</th>\n",
       "      <th>7</th>\n",
       "      <th>8</th>\n",
       "      <th>9</th>\n",
       "      <th>10</th>\n",
       "      <th>11</th>\n",
       "      <th>12</th>\n",
       "    </tr>\n",
       "  </thead>\n",
       "  <tbody>\n",
       "    <tr>\n",
       "      <th>0</th>\n",
       "      <td>1.000000</td>\n",
       "      <td>-0.160478</td>\n",
       "      <td>-0.174249</td>\n",
       "      <td>0.038259</td>\n",
       "      <td>0.036410</td>\n",
       "      <td>-0.039713</td>\n",
       "      <td>0.085924</td>\n",
       "      <td>-0.099613</td>\n",
       "      <td>0.066817</td>\n",
       "      <td>-0.054902</td>\n",
       "      <td>-0.036414</td>\n",
       "      <td>0.039994</td>\n",
       "      <td>0.072979</td>\n",
       "    </tr>\n",
       "    <tr>\n",
       "      <th>1</th>\n",
       "      <td>-0.160478</td>\n",
       "      <td>1.000000</td>\n",
       "      <td>-0.335719</td>\n",
       "      <td>0.073711</td>\n",
       "      <td>0.070149</td>\n",
       "      <td>-0.076514</td>\n",
       "      <td>0.165547</td>\n",
       "      <td>-0.191922</td>\n",
       "      <td>0.128735</td>\n",
       "      <td>-0.105777</td>\n",
       "      <td>-0.070157</td>\n",
       "      <td>0.077055</td>\n",
       "      <td>0.140606</td>\n",
       "    </tr>\n",
       "    <tr>\n",
       "      <th>2</th>\n",
       "      <td>-0.174249</td>\n",
       "      <td>-0.335719</td>\n",
       "      <td>1.000000</td>\n",
       "      <td>0.080037</td>\n",
       "      <td>0.076169</td>\n",
       "      <td>-0.083080</td>\n",
       "      <td>0.179753</td>\n",
       "      <td>-0.208390</td>\n",
       "      <td>0.139781</td>\n",
       "      <td>-0.114854</td>\n",
       "      <td>-0.076177</td>\n",
       "      <td>0.083667</td>\n",
       "      <td>0.152671</td>\n",
       "    </tr>\n",
       "    <tr>\n",
       "      <th>3</th>\n",
       "      <td>0.038259</td>\n",
       "      <td>0.073711</td>\n",
       "      <td>0.080037</td>\n",
       "      <td>1.000000</td>\n",
       "      <td>-0.016724</td>\n",
       "      <td>0.018241</td>\n",
       "      <td>-0.039467</td>\n",
       "      <td>0.045755</td>\n",
       "      <td>-0.030691</td>\n",
       "      <td>0.025218</td>\n",
       "      <td>0.016726</td>\n",
       "      <td>-0.018370</td>\n",
       "      <td>-0.033521</td>\n",
       "    </tr>\n",
       "    <tr>\n",
       "      <th>4</th>\n",
       "      <td>0.036410</td>\n",
       "      <td>0.070149</td>\n",
       "      <td>0.076169</td>\n",
       "      <td>-0.016724</td>\n",
       "      <td>1.000000</td>\n",
       "      <td>0.017360</td>\n",
       "      <td>-0.037560</td>\n",
       "      <td>0.043544</td>\n",
       "      <td>-0.029208</td>\n",
       "      <td>0.023999</td>\n",
       "      <td>0.015917</td>\n",
       "      <td>-0.017482</td>\n",
       "      <td>-0.031901</td>\n",
       "    </tr>\n",
       "    <tr>\n",
       "      <th>5</th>\n",
       "      <td>-0.039713</td>\n",
       "      <td>-0.076514</td>\n",
       "      <td>-0.083080</td>\n",
       "      <td>0.018241</td>\n",
       "      <td>0.017360</td>\n",
       "      <td>1.000000</td>\n",
       "      <td>0.040968</td>\n",
       "      <td>-0.047495</td>\n",
       "      <td>0.031858</td>\n",
       "      <td>-0.026177</td>\n",
       "      <td>-0.017362</td>\n",
       "      <td>0.019069</td>\n",
       "      <td>0.034796</td>\n",
       "    </tr>\n",
       "    <tr>\n",
       "      <th>6</th>\n",
       "      <td>0.085924</td>\n",
       "      <td>0.165547</td>\n",
       "      <td>0.179753</td>\n",
       "      <td>-0.039467</td>\n",
       "      <td>-0.037560</td>\n",
       "      <td>0.040968</td>\n",
       "      <td>1.000000</td>\n",
       "      <td>0.102760</td>\n",
       "      <td>-0.068928</td>\n",
       "      <td>0.056636</td>\n",
       "      <td>0.037564</td>\n",
       "      <td>-0.041257</td>\n",
       "      <td>-0.075284</td>\n",
       "    </tr>\n",
       "    <tr>\n",
       "      <th>7</th>\n",
       "      <td>-0.099613</td>\n",
       "      <td>-0.191922</td>\n",
       "      <td>-0.208390</td>\n",
       "      <td>0.045755</td>\n",
       "      <td>0.043544</td>\n",
       "      <td>-0.047495</td>\n",
       "      <td>0.102760</td>\n",
       "      <td>1.000000</td>\n",
       "      <td>0.079909</td>\n",
       "      <td>-0.065659</td>\n",
       "      <td>-0.043549</td>\n",
       "      <td>0.047830</td>\n",
       "      <td>0.087278</td>\n",
       "    </tr>\n",
       "    <tr>\n",
       "      <th>8</th>\n",
       "      <td>0.066817</td>\n",
       "      <td>0.128735</td>\n",
       "      <td>0.139781</td>\n",
       "      <td>-0.030691</td>\n",
       "      <td>-0.029208</td>\n",
       "      <td>0.031858</td>\n",
       "      <td>-0.068928</td>\n",
       "      <td>0.079909</td>\n",
       "      <td>1.000000</td>\n",
       "      <td>0.044042</td>\n",
       "      <td>0.029211</td>\n",
       "      <td>-0.032083</td>\n",
       "      <td>-0.058543</td>\n",
       "    </tr>\n",
       "    <tr>\n",
       "      <th>9</th>\n",
       "      <td>-0.054902</td>\n",
       "      <td>-0.105777</td>\n",
       "      <td>-0.114854</td>\n",
       "      <td>0.025218</td>\n",
       "      <td>0.023999</td>\n",
       "      <td>-0.026177</td>\n",
       "      <td>0.056636</td>\n",
       "      <td>-0.065659</td>\n",
       "      <td>0.044042</td>\n",
       "      <td>1.000000</td>\n",
       "      <td>-0.024002</td>\n",
       "      <td>0.026361</td>\n",
       "      <td>0.048103</td>\n",
       "    </tr>\n",
       "    <tr>\n",
       "      <th>10</th>\n",
       "      <td>-0.036414</td>\n",
       "      <td>-0.070157</td>\n",
       "      <td>-0.076177</td>\n",
       "      <td>0.016726</td>\n",
       "      <td>0.015917</td>\n",
       "      <td>-0.017362</td>\n",
       "      <td>0.037564</td>\n",
       "      <td>-0.043549</td>\n",
       "      <td>0.029211</td>\n",
       "      <td>-0.024002</td>\n",
       "      <td>1.000000</td>\n",
       "      <td>0.017484</td>\n",
       "      <td>0.031905</td>\n",
       "    </tr>\n",
       "    <tr>\n",
       "      <th>11</th>\n",
       "      <td>0.039994</td>\n",
       "      <td>0.077055</td>\n",
       "      <td>0.083667</td>\n",
       "      <td>-0.018370</td>\n",
       "      <td>-0.017482</td>\n",
       "      <td>0.019069</td>\n",
       "      <td>-0.041257</td>\n",
       "      <td>0.047830</td>\n",
       "      <td>-0.032083</td>\n",
       "      <td>0.026361</td>\n",
       "      <td>0.017484</td>\n",
       "      <td>1.000000</td>\n",
       "      <td>-0.035041</td>\n",
       "    </tr>\n",
       "    <tr>\n",
       "      <th>12</th>\n",
       "      <td>0.072979</td>\n",
       "      <td>0.140606</td>\n",
       "      <td>0.152671</td>\n",
       "      <td>-0.033521</td>\n",
       "      <td>-0.031901</td>\n",
       "      <td>0.034796</td>\n",
       "      <td>-0.075284</td>\n",
       "      <td>0.087278</td>\n",
       "      <td>-0.058543</td>\n",
       "      <td>0.048103</td>\n",
       "      <td>0.031905</td>\n",
       "      <td>-0.035041</td>\n",
       "      <td>1.000000</td>\n",
       "    </tr>\n",
       "  </tbody>\n",
       "</table>\n",
       "</div>"
      ],
      "text/plain": [
       "          0         1         2         3         4         5         6   \\\n",
       "0   1.000000 -0.160478 -0.174249  0.038259  0.036410 -0.039713  0.085924   \n",
       "1  -0.160478  1.000000 -0.335719  0.073711  0.070149 -0.076514  0.165547   \n",
       "2  -0.174249 -0.335719  1.000000  0.080037  0.076169 -0.083080  0.179753   \n",
       "3   0.038259  0.073711  0.080037  1.000000 -0.016724  0.018241 -0.039467   \n",
       "4   0.036410  0.070149  0.076169 -0.016724  1.000000  0.017360 -0.037560   \n",
       "5  -0.039713 -0.076514 -0.083080  0.018241  0.017360  1.000000  0.040968   \n",
       "6   0.085924  0.165547  0.179753 -0.039467 -0.037560  0.040968  1.000000   \n",
       "7  -0.099613 -0.191922 -0.208390  0.045755  0.043544 -0.047495  0.102760   \n",
       "8   0.066817  0.128735  0.139781 -0.030691 -0.029208  0.031858 -0.068928   \n",
       "9  -0.054902 -0.105777 -0.114854  0.025218  0.023999 -0.026177  0.056636   \n",
       "10 -0.036414 -0.070157 -0.076177  0.016726  0.015917 -0.017362  0.037564   \n",
       "11  0.039994  0.077055  0.083667 -0.018370 -0.017482  0.019069 -0.041257   \n",
       "12  0.072979  0.140606  0.152671 -0.033521 -0.031901  0.034796 -0.075284   \n",
       "\n",
       "          7         8         9         10        11        12  \n",
       "0  -0.099613  0.066817 -0.054902 -0.036414  0.039994  0.072979  \n",
       "1  -0.191922  0.128735 -0.105777 -0.070157  0.077055  0.140606  \n",
       "2  -0.208390  0.139781 -0.114854 -0.076177  0.083667  0.152671  \n",
       "3   0.045755 -0.030691  0.025218  0.016726 -0.018370 -0.033521  \n",
       "4   0.043544 -0.029208  0.023999  0.015917 -0.017482 -0.031901  \n",
       "5  -0.047495  0.031858 -0.026177 -0.017362  0.019069  0.034796  \n",
       "6   0.102760 -0.068928  0.056636  0.037564 -0.041257 -0.075284  \n",
       "7   1.000000  0.079909 -0.065659 -0.043549  0.047830  0.087278  \n",
       "8   0.079909  1.000000  0.044042  0.029211 -0.032083 -0.058543  \n",
       "9  -0.065659  0.044042  1.000000 -0.024002  0.026361  0.048103  \n",
       "10 -0.043549  0.029211 -0.024002  1.000000  0.017484  0.031905  \n",
       "11  0.047830 -0.032083  0.026361  0.017484  1.000000 -0.035041  \n",
       "12  0.087278 -0.058543  0.048103  0.031905 -0.035041  1.000000  "
      ]
     },
     "execution_count": 81,
     "metadata": {},
     "output_type": "execute_result"
    }
   ],
   "source": [
    "pd.DataFrame(pca.components_).corr()"
   ]
  },
  {
   "cell_type": "code",
   "execution_count": 82,
   "metadata": {},
   "outputs": [
    {
     "data": {
      "text/plain": [
       "array([9.99999304e-01, 1.98582157e-07, 1.23412247e-07, 8.33037508e-08,\n",
       "       7.12846169e-08, 5.28775643e-08, 3.84111759e-08, 3.36087498e-08,\n",
       "       2.97339864e-08, 2.05581651e-08, 1.94555982e-08, 1.68780934e-08,\n",
       "       7.92303796e-09])"
      ]
     },
     "execution_count": 82,
     "metadata": {},
     "output_type": "execute_result"
    }
   ],
   "source": [
    "pca.explained_variance_ratio_"
   ]
  },
  {
   "cell_type": "code",
   "execution_count": 83,
   "metadata": {},
   "outputs": [
    {
     "data": {
      "text/plain": [
       "[<matplotlib.lines.Line2D at 0xcbaa5f3688>]"
      ]
     },
     "execution_count": 83,
     "metadata": {},
     "output_type": "execute_result"
    },
    {
     "data": {
      "image/png": "[encoded data removed]",
      "text/plain": [
       "<Figure size 432x288 with 1 Axes>"
      ]
     },
     "metadata": {
      "needs_background": "light"
     },
     "output_type": "display_data"
    }
   ],
   "source": [
    "plt.plot(np.cumsum(pca.explained_variance_ratio_))"
   ]
  },
  {
   "cell_type": "code",
   "execution_count": 84,
   "metadata": {},
   "outputs": [],
   "source": [
    "pca_final = IncrementalPCA(n_components=8)"
   ]
  },
  {
   "cell_type": "code",
   "execution_count": 85,
   "metadata": {},
   "outputs": [
    {
     "data": {
      "text/plain": [
       "(408, 8)"
      ]
     },
     "execution_count": 85,
     "metadata": {},
     "output_type": "execute_result"
    }
   ],
   "source": [
    "df_train_pca = pca_final.fit_transform(X_train)\n",
    "df_train_pca.shape"
   ]
  },
  {
   "cell_type": "code",
   "execution_count": 86,
   "metadata": {},
   "outputs": [
    {
     "data": {
      "text/plain": [
       "(408, 8)"
      ]
     },
     "execution_count": 86,
     "metadata": {},
     "output_type": "execute_result"
    }
   ],
   "source": [
    "pd.DataFrame(df_train_pca).shape"
   ]
  },
  {
   "cell_type": "code",
   "execution_count": 87,
   "metadata": {},
   "outputs": [],
   "source": [
    "# LDA\n",
    "df = pd.read_csv('wine.csv')"
   ]
  },
  {
   "cell_type": "code",
   "execution_count": 88,
   "metadata": {},
   "outputs": [
    {
     "data": {
      "text/plain": [
       "Index(['Wine', 'Alcohol', 'Malic.acid', 'Ash', 'Acl', 'Mg', 'Phenols',\n",
       "       'Flavanoids', 'Nonflavanoid.phenols', 'Proanth', 'Color.int', 'Hue',\n",
       "       'OD', 'Proline'],\n",
       "      dtype='object')"
      ]
     },
     "execution_count": 88,
     "metadata": {},
     "output_type": "execute_result"
    }
   ],
   "source": [
    "df.columns"
   ]
  },
  {
   "cell_type": "code",
   "execution_count": 89,
   "metadata": {},
   "outputs": [],
   "source": [
    "y = df.pop('Wine')\n",
    "X = df"
   ]
  },
  {
   "cell_type": "code",
   "execution_count": 90,
   "metadata": {},
   "outputs": [],
   "source": [
    "X_train,X_test,y_train,y_test = train_test_split(X,y,train_size=0.8)"
   ]
  },
  {
   "cell_type": "code",
   "execution_count": 91,
   "metadata": {},
   "outputs": [],
   "source": [
    "sc = MinMaxScaler()\n",
    "X_train = sc.fit_transform(X_train)\n",
    "X_test = sc.transform(X_test)"
   ]
  },
  {
   "cell_type": "code",
   "execution_count": 92,
   "metadata": {},
   "outputs": [],
   "source": [
    "lda = LDA(n_components = 2)\n",
    "X_train = lda.fit_transform(X_train,y_train)\n",
    "X_test = lda.transform(X_test)"
   ]
  },
  {
   "cell_type": "code",
   "execution_count": 93,
   "metadata": {},
   "outputs": [
    {
     "data": {
      "text/html": [
       "<div>\n",
       "<style scoped>\n",
       "    .dataframe tbody tr th:only-of-type {\n",
       "        vertical-align: middle;\n",
       "    }\n",
       "\n",
       "    .dataframe tbody tr th {\n",
       "        vertical-align: top;\n",
       "    }\n",
       "\n",
       "    .dataframe thead th {\n",
       "        text-align: right;\n",
       "    }\n",
       "</style>\n",
       "<table border=\"1\" class=\"dataframe\">\n",
       "  <thead>\n",
       "    <tr style=\"text-align: right;\">\n",
       "      <th></th>\n",
       "      <th>0</th>\n",
       "      <th>1</th>\n",
       "    </tr>\n",
       "  </thead>\n",
       "  <tbody>\n",
       "    <tr>\n",
       "      <th>0</th>\n",
       "      <td>-1.645794</td>\n",
       "      <td>-3.652411</td>\n",
       "    </tr>\n",
       "    <tr>\n",
       "      <th>1</th>\n",
       "      <td>5.326299</td>\n",
       "      <td>2.105375</td>\n",
       "    </tr>\n",
       "    <tr>\n",
       "      <th>2</th>\n",
       "      <td>4.482727</td>\n",
       "      <td>1.979130</td>\n",
       "    </tr>\n",
       "    <tr>\n",
       "      <th>3</th>\n",
       "      <td>-1.877364</td>\n",
       "      <td>-2.345257</td>\n",
       "    </tr>\n",
       "    <tr>\n",
       "      <th>4</th>\n",
       "      <td>-2.432924</td>\n",
       "      <td>0.429939</td>\n",
       "    </tr>\n",
       "  </tbody>\n",
       "</table>\n",
       "</div>"
      ],
      "text/plain": [
       "          0         1\n",
       "0 -1.645794 -3.652411\n",
       "1  5.326299  2.105375\n",
       "2  4.482727  1.979130\n",
       "3 -1.877364 -2.345257\n",
       "4 -2.432924  0.429939"
      ]
     },
     "execution_count": 93,
     "metadata": {},
     "output_type": "execute_result"
    }
   ],
   "source": [
    "pd.DataFrame(X_train).head()"
   ]
  },
  {
   "cell_type": "code",
   "execution_count": null,
   "metadata": {},
   "outputs": [],
   "source": []
  }
 ],
 "metadata": {
  "kernelspec": {
   "display_name": "Python 3",
   "language": "python",
   "name": "python3"
  },
  "language_info": {
   "codemirror_mode": {
    "name": "ipython",
    "version": 3
   },
   "file_extension": ".py",
   "mimetype": "text/x-python",
   "name": "python",
   "nbconvert_exporter": "python",
   "pygments_lexer": "ipython3",
   "version": "3.7.6"
  }
 },
 "nbformat": 4,
 "nbformat_minor": 4
}
